{
 "cells": [
  {
   "cell_type": "code",
   "execution_count": 1,
   "id": "cda4bd9f",
   "metadata": {},
   "outputs": [
    {
     "data": {
      "text/plain": [
       "'Apple'"
      ]
     },
     "execution_count": 1,
     "metadata": {},
     "output_type": "execute_result"
    }
   ],
   "source": [
    "# 축약형 (객체지향적)\n",
    "'apple'.capitalize()\n",
    "\n",
    "str.capitalize('apple')"
   ]
  },
  {
   "cell_type": "code",
   "execution_count": 125,
   "id": "5824bfb7",
   "metadata": {},
   "outputs": [],
   "source": [
    "class Person:\n",
    "    pi = 3.14\n",
    "    def __init__(self, name, wallet):\n",
    "        self.name = name\n",
    "        self.__wallet = wallet\n",
    "        print('인스턴스가 생성되었습니다.')\n",
    "    \n",
    "    def call_name(self):\n",
    "        print(f'내 이름은 {self.name}입니다.')\n",
    "    \n",
    "    def get_wallet(self):\n",
    "        return self.__wallet\n",
    "    \n",
    "    @classmethod\n",
    "    def class_method(cls):\n",
    "        return cls.pi\n",
    "    \n",
    "    @staticmethod\n",
    "    def static_method():\n",
    "        return 4\n",
    "        \n",
    "    def get_pi(self):\n",
    "        return self.pi"
   ]
  },
  {
   "cell_type": "code",
   "execution_count": 126,
   "id": "7faa8c93",
   "metadata": {},
   "outputs": [
    {
     "name": "stdout",
     "output_type": "stream",
     "text": [
      "인스턴스가 생성되었습니다.\n"
     ]
    }
   ],
   "source": [
    "person1 = Person('민수', 10000)"
   ]
  },
  {
   "cell_type": "code",
   "execution_count": 102,
   "id": "bec9a352",
   "metadata": {},
   "outputs": [],
   "source": [
    "import math"
   ]
  },
  {
   "cell_type": "code",
   "execution_count": 109,
   "id": "440188dd",
   "metadata": {
    "scrolled": true
   },
   "outputs": [
    {
     "data": {
      "text/plain": [
       "type"
      ]
     },
     "execution_count": 109,
     "metadata": {},
     "output_type": "execute_result"
    }
   ],
   "source": [
    "type(object)"
   ]
  },
  {
   "cell_type": "code",
   "execution_count": 114,
   "id": "f5fe39d6",
   "metadata": {},
   "outputs": [
    {
     "data": {
      "text/plain": [
       "False"
      ]
     },
     "execution_count": 114,
     "metadata": {},
     "output_type": "execute_result"
    }
   ],
   "source": [
    "help(object)"
   ]
  },
  {
   "cell_type": "code",
   "execution_count": 115,
   "id": "79289135",
   "metadata": {},
   "outputs": [],
   "source": [
    "a = object()\n"
   ]
  },
  {
   "cell_type": "code",
   "execution_count": null,
   "id": "3d38a9de",
   "metadata": {},
   "outputs": [],
   "source": []
  },
  {
   "cell_type": "code",
   "execution_count": 129,
   "id": "3e4bcd47",
   "metadata": {},
   "outputs": [
    {
     "ename": "TypeError",
     "evalue": "object() takes no arguments",
     "output_type": "error",
     "traceback": [
      "\u001b[1;31m---------------------------------------------------------------------------\u001b[0m",
      "\u001b[1;31mTypeError\u001b[0m                                 Traceback (most recent call last)",
      "\u001b[1;32m~\\AppData\\Local\\Temp/ipykernel_8520/3706812360.py\u001b[0m in \u001b[0;36m<module>\u001b[1;34m\u001b[0m\n\u001b[1;32m----> 1\u001b[1;33m \u001b[0mobject\u001b[0m\u001b[1;33m(\u001b[0m\u001b[0mperson1\u001b[0m\u001b[1;33m)\u001b[0m\u001b[1;33m\u001b[0m\u001b[1;33m\u001b[0m\u001b[0m\n\u001b[0m",
      "\u001b[1;31mTypeError\u001b[0m: object() takes no arguments"
     ]
    }
   ],
   "source": []
  },
  {
   "cell_type": "code",
   "execution_count": 127,
   "id": "219d882a",
   "metadata": {},
   "outputs": [
    {
     "data": {
      "text/plain": [
       "'<__main__.Person object at 0x000002B117AD51C0>'"
      ]
     },
     "execution_count": 127,
     "metadata": {},
     "output_type": "execute_result"
    }
   ],
   "source": [
    "person1.__repr__()"
   ]
  },
  {
   "cell_type": "code",
   "execution_count": 112,
   "id": "726263a0",
   "metadata": {},
   "outputs": [
    {
     "name": "stdout",
     "output_type": "stream",
     "text": [
      "Help on class object in module builtins:\n",
      "\n",
      "class object\n",
      " |  The base class of the class hierarchy.\n",
      " |  \n",
      " |  When called, it accepts no arguments and returns a new featureless\n",
      " |  instance that has no instance attributes and cannot be given any.\n",
      " |  \n",
      " |  Built-in subclasses:\n",
      " |      async_generator\n",
      " |      BaseException\n",
      " |      builtin_function_or_method\n",
      " |      bytearray\n",
      " |      ... and 114 other subclasses\n",
      " |  \n",
      " |  Methods defined here:\n",
      " |  \n",
      " |  __delattr__(self, name, /)\n",
      " |      Implement delattr(self, name).\n",
      " |  \n",
      " |  __dir__(self, /)\n",
      " |      Default dir() implementation.\n",
      " |  \n",
      " |  __eq__(self, value, /)\n",
      " |      Return self==value.\n",
      " |  \n",
      " |  __format__(self, format_spec, /)\n",
      " |      Default object formatter.\n",
      " |  \n",
      " |  __ge__(self, value, /)\n",
      " |      Return self>=value.\n",
      " |  \n",
      " |  __getattribute__(self, name, /)\n",
      " |      Return getattr(self, name).\n",
      " |  \n",
      " |  __gt__(self, value, /)\n",
      " |      Return self>value.\n",
      " |  \n",
      " |  __hash__(self, /)\n",
      " |      Return hash(self).\n",
      " |  \n",
      " |  __init__(self, /, *args, **kwargs)\n",
      " |      Initialize self.  See help(type(self)) for accurate signature.\n",
      " |  \n",
      " |  __le__(self, value, /)\n",
      " |      Return self<=value.\n",
      " |  \n",
      " |  __lt__(self, value, /)\n",
      " |      Return self<value.\n",
      " |  \n",
      " |  __ne__(self, value, /)\n",
      " |      Return self!=value.\n",
      " |  \n",
      " |  __reduce__(self, /)\n",
      " |      Helper for pickle.\n",
      " |  \n",
      " |  __reduce_ex__(self, protocol, /)\n",
      " |      Helper for pickle.\n",
      " |  \n",
      " |  __repr__(self, /)\n",
      " |      Return repr(self).\n",
      " |  \n",
      " |  __setattr__(self, name, value, /)\n",
      " |      Implement setattr(self, name, value).\n",
      " |  \n",
      " |  __sizeof__(self, /)\n",
      " |      Size of object in memory, in bytes.\n",
      " |  \n",
      " |  __str__(self, /)\n",
      " |      Return str(self).\n",
      " |  \n",
      " |  ----------------------------------------------------------------------\n",
      " |  Class methods defined here:\n",
      " |  \n",
      " |  __init_subclass__(...) from builtins.type\n",
      " |      This method is called when a class is subclassed.\n",
      " |      \n",
      " |      The default implementation does nothing. It may be\n",
      " |      overridden to extend subclasses.\n",
      " |  \n",
      " |  __subclasshook__(...) from builtins.type\n",
      " |      Abstract classes can override this to customize issubclass().\n",
      " |      \n",
      " |      This is invoked early on by abc.ABCMeta.__subclasscheck__().\n",
      " |      It should return True, False or NotImplemented.  If it returns\n",
      " |      NotImplemented, the normal algorithm is used.  Otherwise, it\n",
      " |      overrides the normal algorithm (and the outcome is cached).\n",
      " |  \n",
      " |  ----------------------------------------------------------------------\n",
      " |  Static methods defined here:\n",
      " |  \n",
      " |  __new__(*args, **kwargs) from builtins.type\n",
      " |      Create and return a new object.  See help(type) for accurate signature.\n",
      " |  \n",
      " |  ----------------------------------------------------------------------\n",
      " |  Data and other attributes defined here:\n",
      " |  \n",
      " |  __class__ = <class 'type'>\n",
      " |      type(object_or_name, bases, dict)\n",
      " |      type(object) -> the object's type\n",
      " |      type(name, bases, dict) -> a new type\n",
      "\n"
     ]
    }
   ],
   "source": [
    "help(object)"
   ]
  },
  {
   "cell_type": "code",
   "execution_count": null,
   "id": "d9ded489",
   "metadata": {},
   "outputs": [],
   "source": []
  },
  {
   "cell_type": "code",
   "execution_count": 101,
   "id": "b25ab3b2",
   "metadata": {},
   "outputs": [
    {
     "data": {
      "text/plain": [
       "4"
      ]
     },
     "execution_count": 101,
     "metadata": {},
     "output_type": "execute_result"
    }
   ],
   "source": [
    "person1.static_method()"
   ]
  },
  {
   "cell_type": "code",
   "execution_count": 80,
   "id": "093c979d",
   "metadata": {},
   "outputs": [
    {
     "ename": "TypeError",
     "evalue": "class_method() missing 1 required positional argument: 'cls'",
     "output_type": "error",
     "traceback": [
      "\u001b[1;31m---------------------------------------------------------------------------\u001b[0m",
      "\u001b[1;31mTypeError\u001b[0m                                 Traceback (most recent call last)",
      "\u001b[1;32m~\\AppData\\Local\\Temp/ipykernel_8520/3271960700.py\u001b[0m in \u001b[0;36m<module>\u001b[1;34m\u001b[0m\n\u001b[1;32m----> 1\u001b[1;33m \u001b[0mPerson\u001b[0m\u001b[1;33m.\u001b[0m\u001b[0mclass_method\u001b[0m\u001b[1;33m(\u001b[0m\u001b[1;33m)\u001b[0m\u001b[1;33m\u001b[0m\u001b[1;33m\u001b[0m\u001b[0m\n\u001b[0m",
      "\u001b[1;31mTypeError\u001b[0m: class_method() missing 1 required positional argument: 'cls'"
     ]
    }
   ],
   "source": [
    "Person.class_method()"
   ]
  },
  {
   "cell_type": "code",
   "execution_count": 21,
   "id": "65e68d52",
   "metadata": {},
   "outputs": [],
   "source": [
    "person1.pi = 3"
   ]
  },
  {
   "cell_type": "code",
   "execution_count": 17,
   "id": "4b265392",
   "metadata": {},
   "outputs": [
    {
     "name": "stdout",
     "output_type": "stream",
     "text": [
      "adas\n"
     ]
    }
   ],
   "source": [
    "person1.name = 'adas'\n",
    "print(person1.name)"
   ]
  },
  {
   "cell_type": "code",
   "execution_count": 48,
   "id": "c7353175",
   "metadata": {},
   "outputs": [
    {
     "ename": "AttributeError",
     "evalue": "'Person' object has no attribute '__pi'",
     "output_type": "error",
     "traceback": [
      "\u001b[1;31m---------------------------------------------------------------------------\u001b[0m",
      "\u001b[1;31mAttributeError\u001b[0m                            Traceback (most recent call last)",
      "\u001b[1;32m~\\AppData\\Local\\Temp/ipykernel_8520/4030406025.py\u001b[0m in \u001b[0;36m<module>\u001b[1;34m\u001b[0m\n\u001b[1;32m----> 1\u001b[1;33m \u001b[0mperson1\u001b[0m\u001b[1;33m.\u001b[0m\u001b[0m__pi\u001b[0m\u001b[1;33m\u001b[0m\u001b[1;33m\u001b[0m\u001b[0m\n\u001b[0m",
      "\u001b[1;31mAttributeError\u001b[0m: 'Person' object has no attribute '__pi'"
     ]
    }
   ],
   "source": [
    "person1.__pi"
   ]
  },
  {
   "cell_type": "code",
   "execution_count": 54,
   "id": "a79045b3",
   "metadata": {},
   "outputs": [
    {
     "name": "stdout",
     "output_type": "stream",
     "text": [
      "인스턴스가 생성되었습니다.\n"
     ]
    },
    {
     "data": {
      "text/plain": [
       "3.14"
      ]
     },
     "execution_count": 54,
     "metadata": {},
     "output_type": "execute_result"
    }
   ],
   "source": [
    "Person('asd',100).get_pi()"
   ]
  },
  {
   "cell_type": "code",
   "execution_count": 58,
   "id": "4f2801d8",
   "metadata": {},
   "outputs": [
    {
     "data": {
      "text/plain": [
       "False"
      ]
     },
     "execution_count": 58,
     "metadata": {},
     "output_type": "execute_result"
    }
   ],
   "source": [
    "isinstance('1',type(type))"
   ]
  },
  {
   "cell_type": "code",
   "execution_count": 62,
   "id": "12360ea2",
   "metadata": {},
   "outputs": [
    {
     "data": {
      "text/plain": [
       "False"
      ]
     },
     "execution_count": 62,
     "metadata": {},
     "output_type": "execute_result"
    }
   ],
   "source": [
    "issubclass(int,float)"
   ]
  },
  {
   "cell_type": "code",
   "execution_count": 70,
   "id": "22aa8dd4",
   "metadata": {},
   "outputs": [],
   "source": [
    "person1.__class__.pi = 3"
   ]
  },
  {
   "cell_type": "code",
   "execution_count": 72,
   "id": "21ef3fe3",
   "metadata": {},
   "outputs": [
    {
     "name": "stdout",
     "output_type": "stream",
     "text": [
      "인스턴스가 생성되었습니다.\n"
     ]
    }
   ],
   "source": [
    "person2 = Person('alstn', 100)"
   ]
  },
  {
   "cell_type": "code",
   "execution_count": 73,
   "id": "99d2755d",
   "metadata": {},
   "outputs": [
    {
     "data": {
      "text/plain": [
       "3"
      ]
     },
     "execution_count": 73,
     "metadata": {},
     "output_type": "execute_result"
    }
   ],
   "source": [
    "person2.pi"
   ]
  },
  {
   "cell_type": "code",
   "execution_count": 130,
   "id": "a92c11b9",
   "metadata": {},
   "outputs": [],
   "source": [
    "import faker"
   ]
  },
  {
   "cell_type": "code",
   "execution_count": 131,
   "id": "df748618",
   "metadata": {},
   "outputs": [
    {
     "data": {
      "text/plain": [
       "'James Gallegos'"
      ]
     },
     "execution_count": 131,
     "metadata": {},
     "output_type": "execute_result"
    }
   ],
   "source": [
    "from faker import Faker\n",
    "fake = Faker()\n",
    "fake.name()"
   ]
  },
  {
   "cell_type": "code",
   "execution_count": 150,
   "id": "eeebbe60",
   "metadata": {},
   "outputs": [
    {
     "ename": "TypeError",
     "evalue": "Calling `.seed()` on instances is deprecated. Use the class method `Faker.seed()` instead.",
     "output_type": "error",
     "traceback": [
      "\u001b[1;31m---------------------------------------------------------------------------\u001b[0m",
      "\u001b[1;31mTypeError\u001b[0m                                 Traceback (most recent call last)",
      "\u001b[1;32m~\\AppData\\Local\\Temp/ipykernel_8520/2887743594.py\u001b[0m in \u001b[0;36m<module>\u001b[1;34m\u001b[0m\n\u001b[0;32m      2\u001b[0m \u001b[0mfake\u001b[0m\u001b[1;33m.\u001b[0m\u001b[0mseed_instance\u001b[0m\u001b[1;33m(\u001b[0m\u001b[1;36m4321\u001b[0m\u001b[1;33m)\u001b[0m\u001b[1;33m\u001b[0m\u001b[1;33m\u001b[0m\u001b[0m\n\u001b[0;32m      3\u001b[0m \u001b[1;33m\u001b[0m\u001b[0m\n\u001b[1;32m----> 4\u001b[1;33m \u001b[0mprint\u001b[0m\u001b[1;33m(\u001b[0m\u001b[0mfake\u001b[0m\u001b[1;33m.\u001b[0m\u001b[0mseed\u001b[0m\u001b[1;33m)\u001b[0m\u001b[1;33m\u001b[0m\u001b[1;33m\u001b[0m\u001b[0m\n\u001b[0m\u001b[0;32m      5\u001b[0m \u001b[0mprint\u001b[0m\u001b[1;33m(\u001b[0m\u001b[0mfake\u001b[0m\u001b[1;33m.\u001b[0m\u001b[0mname\u001b[0m\u001b[1;33m(\u001b[0m\u001b[1;33m)\u001b[0m\u001b[1;33m)\u001b[0m\u001b[1;33m\u001b[0m\u001b[1;33m\u001b[0m\u001b[0m\n\u001b[0;32m      6\u001b[0m \u001b[0mfake2\u001b[0m \u001b[1;33m=\u001b[0m \u001b[0mFaker\u001b[0m\u001b[1;33m(\u001b[0m\u001b[1;34m'ko_KR'\u001b[0m\u001b[1;33m)\u001b[0m\u001b[1;33m\u001b[0m\u001b[1;33m\u001b[0m\u001b[0m\n",
      "\u001b[1;32mc:\\users\\강민수\\appdata\\local\\programs\\python\\python39\\lib\\site-packages\\faker\\proxy.py\u001b[0m in \u001b[0;36m__getattribute__\u001b[1;34m(self, attr)\u001b[0m\n\u001b[0;32m     91\u001b[0m                 \u001b[1;34m'Use the class method `Faker.seed()` instead.'\u001b[0m\u001b[1;33m\u001b[0m\u001b[1;33m\u001b[0m\u001b[0m\n\u001b[0;32m     92\u001b[0m             )\n\u001b[1;32m---> 93\u001b[1;33m             \u001b[1;32mraise\u001b[0m \u001b[0mTypeError\u001b[0m\u001b[1;33m(\u001b[0m\u001b[0mmsg\u001b[0m\u001b[1;33m)\u001b[0m\u001b[1;33m\u001b[0m\u001b[1;33m\u001b[0m\u001b[0m\n\u001b[0m\u001b[0;32m     94\u001b[0m         \u001b[1;32melse\u001b[0m\u001b[1;33m:\u001b[0m\u001b[1;33m\u001b[0m\u001b[1;33m\u001b[0m\u001b[0m\n\u001b[0;32m     95\u001b[0m             \u001b[1;32mreturn\u001b[0m \u001b[0msuper\u001b[0m\u001b[1;33m(\u001b[0m\u001b[1;33m)\u001b[0m\u001b[1;33m.\u001b[0m\u001b[0m__getattribute__\u001b[0m\u001b[1;33m(\u001b[0m\u001b[0mattr\u001b[0m\u001b[1;33m)\u001b[0m\u001b[1;33m\u001b[0m\u001b[1;33m\u001b[0m\u001b[0m\n",
      "\u001b[1;31mTypeError\u001b[0m: Calling `.seed()` on instances is deprecated. Use the class method `Faker.seed()` instead."
     ]
    }
   ],
   "source": [
    "fake = Faker('ko_KR')\n",
    "fake.seed_instance(4321)\n",
    "\n",
    "print(fake.seed)\n",
    "print(fake.name())\n",
    "fake2 = Faker('ko_KR')\n",
    "print(fake2.name())"
   ]
  },
  {
   "cell_type": "code",
   "execution_count": 154,
   "id": "7497d757",
   "metadata": {},
   "outputs": [
    {
     "name": "stdout",
     "output_type": "stream",
     "text": [
      "Help on class Faker in module faker.proxy:\n",
      "\n",
      "class Faker(builtins.object)\n",
      " |  Faker(locale=None, providers=None, generator=None, includes=None, use_weighting=True, **config)\n",
      " |  \n",
      " |  Proxy class capable of supporting multiple locales\n",
      " |  \n",
      " |  Methods defined here:\n",
      " |  \n",
      " |  __deepcopy__(self, memodict={})\n",
      " |  \n",
      " |  __dir__(self)\n",
      " |      Default dir() implementation.\n",
      " |  \n",
      " |  __getattr__(self, attr)\n",
      " |      Handles cache access and proxying behavior\n",
      " |      \n",
      " |      :param attr: attribute name\n",
      " |      :return: the appropriate attribute\n",
      " |  \n",
      " |  __getattribute__(self, attr)\n",
      " |      Handles the \"attribute resolution\" behavior for declared members of this proxy class\n",
      " |      \n",
      " |      The class method `seed` cannot be called from an instance.\n",
      " |      \n",
      " |      :param attr: attribute name\n",
      " |      :return: the appropriate attribute\n",
      " |  \n",
      " |  __getitem__(self, locale)\n",
      " |  \n",
      " |  __init__(self, locale=None, providers=None, generator=None, includes=None, use_weighting=True, **config)\n",
      " |      Initialize self.  See help(type(self)) for accurate signature.\n",
      " |  \n",
      " |  __setstate__(self, state)\n",
      " |  \n",
      " |  items(self)\n",
      " |  \n",
      " |  seed_instance(self, seed=None)\n",
      " |      Creates and seeds a new `random.Random` object for each factory\n",
      " |      \n",
      " |      :param seed: seed value\n",
      " |  \n",
      " |  seed_locale(self, locale, seed=None)\n",
      " |      Creates and seeds a new `random.Random` object for the factory of the specified locale\n",
      " |      \n",
      " |      :param locale: locale string\n",
      " |      :param seed: seed value\n",
      " |  \n",
      " |  ----------------------------------------------------------------------\n",
      " |  Class methods defined here:\n",
      " |  \n",
      " |  seed(seed=None) from builtins.type\n",
      " |      Seeds the shared `random.Random` object across all factories\n",
      " |      \n",
      " |      :param seed: seed value\n",
      " |  \n",
      " |  ----------------------------------------------------------------------\n",
      " |  Readonly properties defined here:\n",
      " |  \n",
      " |  factories\n",
      " |  \n",
      " |  locales\n",
      " |  \n",
      " |  unique\n",
      " |  \n",
      " |  weights\n",
      " |  \n",
      " |  ----------------------------------------------------------------------\n",
      " |  Data descriptors defined here:\n",
      " |  \n",
      " |  __dict__\n",
      " |      dictionary for instance variables (if defined)\n",
      " |  \n",
      " |  __weakref__\n",
      " |      list of weak references to the object (if defined)\n",
      " |  \n",
      " |  random\n",
      " |      Proxies `random` getter calls\n",
      " |      \n",
      " |      In single locale mode, this will be proxied to the `random` getter\n",
      " |      of the only internal `Generator` object. Subclasses will have to\n",
      " |      implement desired behavior in multiple locale mode.\n",
      " |  \n",
      " |  ----------------------------------------------------------------------\n",
      " |  Data and other attributes defined here:\n",
      " |  \n",
      " |  cache_pattern = re.compile('^_cached_\\\\w*_mapping$')\n",
      " |  \n",
      " |  generator_attrs = ['_Generator__config', '_Generator__format_token', '...\n",
      "\n"
     ]
    }
   ],
   "source": [
    "help(Faker)"
   ]
  },
  {
   "cell_type": "code",
   "execution_count": null,
   "id": "0bac3585",
   "metadata": {},
   "outputs": [],
   "source": []
  }
 ],
 "metadata": {
  "kernelspec": {
   "display_name": "Python 3 (ipykernel)",
   "language": "python",
   "name": "python3"
  },
  "language_info": {
   "codemirror_mode": {
    "name": "ipython",
    "version": 3
   },
   "file_extension": ".py",
   "mimetype": "text/x-python",
   "name": "python",
   "nbconvert_exporter": "python",
   "pygments_lexer": "ipython3",
   "version": "3.9.6"
  },
  "toc": {
   "base_numbering": 1,
   "nav_menu": {},
   "number_sections": true,
   "sideBar": true,
   "skip_h1_title": false,
   "title_cell": "Table of Contents",
   "title_sidebar": "Contents",
   "toc_cell": false,
   "toc_position": {},
   "toc_section_display": true,
   "toc_window_display": false
  },
  "varInspector": {
   "cols": {
    "lenName": 16,
    "lenType": 16,
    "lenVar": 40
   },
   "kernels_config": {
    "python": {
     "delete_cmd_postfix": "",
     "delete_cmd_prefix": "del ",
     "library": "var_list.py",
     "varRefreshCmd": "print(var_dic_list())"
    },
    "r": {
     "delete_cmd_postfix": ") ",
     "delete_cmd_prefix": "rm(",
     "library": "var_list.r",
     "varRefreshCmd": "cat(var_dic_list()) "
    }
   },
   "types_to_exclude": [
    "module",
    "function",
    "builtin_function_or_method",
    "instance",
    "_Feature"
   ],
   "window_display": false
  }
 },
 "nbformat": 4,
 "nbformat_minor": 5
}
