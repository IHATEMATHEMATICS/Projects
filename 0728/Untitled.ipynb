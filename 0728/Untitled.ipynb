{
 "cells": [
  {
   "cell_type": "code",
   "execution_count": 19,
   "id": "1459c9ec",
   "metadata": {},
   "outputs": [],
   "source": [
    "import os\n",
    "import jwt\n",
    "import uuid\n",
    "import hashlib\n",
    "import requests\n",
    "from urllib.parse import urlencode\n",
    "from pprint import pprint\n",
    "\n",
    "payload = {\n",
    "    'access_key' : '',\n",
    "    'nonce' : str(uuid.uuid4())\n",
    "}\n",
    "\n",
    "jwt_token = jwt.encode(payload, '')\n",
    "authorization_token = f'Bearer {jwt_token}'\n",
    "\n",
    "headers = {'Authorization' : authorization_token}\n",
    "\n",
    "res = requests.get('https://api.upbit.com/v1/accounts', headers = headers)"
   ]
  },
  {
   "cell_type": "code",
   "execution_count": 15,
   "id": "fdea52e7",
   "metadata": {
    "scrolled": true
   },
   "outputs": [
    {
     "name": "stdout",
     "output_type": "stream",
     "text": [
      "[{'avg_buy_price': '0',\n",
      "  'avg_buy_price_modified': True,\n",
      "  'balance': '0.03592412',\n",
      "  'currency': 'KRW',\n",
      "  'locked': '0.0',\n",
      "  'unit_currency': 'KRW'},\n",
      " {'avg_buy_price': '799',\n",
      "  'avg_buy_price_modified': False,\n",
      "  'balance': '0.0',\n",
      "  'currency': 'MANA',\n",
      "  'locked': '1690.36633122',\n",
      "  'unit_currency': 'KRW'},\n",
      " {'avg_buy_price': '40.6',\n",
      "  'avg_buy_price_modified': False,\n",
      "  'balance': '0.00000066',\n",
      "  'currency': 'TRX',\n",
      "  'locked': '0.0',\n",
      "  'unit_currency': 'KRW'},\n",
      " {'avg_buy_price': '0',\n",
      "  'avg_buy_price_modified': False,\n",
      "  'balance': '0.00003025',\n",
      "  'currency': 'APENFT',\n",
      "  'locked': '0.0',\n",
      "  'unit_currency': 'KRW'}]\n"
     ]
    }
   ],
   "source": [
    "pprint(res.json())"
   ]
  },
  {
   "cell_type": "code",
   "execution_count": 20,
   "id": "4cfa92bf",
   "metadata": {},
   "outputs": [
    {
     "name": "stdout",
     "output_type": "stream",
     "text": [
      "{'error': {'message': '잘못된 엑세스 키입니다.', 'name': 'invalid_access_key'}}\n"
     ]
    }
   ],
   "source": [
    "query = {\n",
    "    'market': 'KRW-ETH',\n",
    "}\n",
    "query_string = urlencode(query).encode()\n",
    "\n",
    "m = hashlib.sha512()\n",
    "m.update(query_string)\n",
    "query_hash = m.hexdigest()\n",
    "\n",
    "payload = {\n",
    "    'access_key' : '',\n",
    "    'nonce' : str(uuid.uuid4()),\n",
    "    'query_hash' : query_hash,\n",
    "    'query_hash_alg' : 'SHA512',\n",
    "}\n",
    "\n",
    "jwt_token = jwt.encode(payload, '')\n",
    "authorization_token = f'Bearer {jwt_token}'\n",
    "\n",
    "headers = {'Authorization' : authorization_token}\n",
    "\n",
    "res = requests.get('https://api.upbit.com/v1/orders/chance', params = query, headers = headers)\n",
    "\n",
    "pprint(res.json())"
   ]
  },
  {
   "cell_type": "code",
   "execution_count": 42,
   "id": "183c8009",
   "metadata": {},
   "outputs": [
    {
     "name": "stdout",
     "output_type": "stream",
     "text": [
      "eyJhbGciOiAiRVMyNTYiLCJraWQiOiAiS2V5IElEIn0=\n"
     ]
    }
   ],
   "source": [
    "import base64\n",
    "\n",
    "str_input = '{\"alg\": \"ES256\",\"kid\": \"Key ID\"}'\n",
    "str_encoded = base64.urlsafe_b64encode(bytes(str_input, 'UTF-8')).decode(\"UTF-8\")\n",
    "\n",
    "print(str_encoded)"
   ]
  },
  {
   "cell_type": "code",
   "execution_count": 43,
   "id": "fbcbf14b",
   "metadata": {},
   "outputs": [
    {
     "name": "stdout",
     "output_type": "stream",
     "text": [
      "{\"alg\": \"ES256\",\"kid\": \"Key ID\"}\n"
     ]
    }
   ],
   "source": [
    "str_decoded = base64.urlsafe_b64decode(bytes(str_encoded, 'UTF-8')).decode(\"UTF-8\")\n",
    "print(str_decoded)"
   ]
  },
  {
   "cell_type": "code",
   "execution_count": 44,
   "id": "f26e0e12",
   "metadata": {},
   "outputs": [
    {
     "name": "stdout",
     "output_type": "stream",
     "text": [
      "eyJpc3MiOiAibWluc29vLmthbmciLCJpYXQiOiAiMTU4NjM2NDM0MiJ9\n"
     ]
    }
   ],
   "source": [
    "str_input = '{\"iss\": \"minsoo.kang\",\"iat\": \"1586364342\"}'\n",
    "str_encoded = base64.urlsafe_b64encode(bytes(str_input, 'UTF-8')).decode('UTF-8')\n",
    "print(str_encoded)"
   ]
  }
 ],
 "metadata": {
  "kernelspec": {
   "display_name": "Python 3 (ipykernel)",
   "language": "python",
   "name": "python3"
  },
  "language_info": {
   "codemirror_mode": {
    "name": "ipython",
    "version": 3
   },
   "file_extension": ".py",
   "mimetype": "text/x-python",
   "name": "python",
   "nbconvert_exporter": "python",
   "pygments_lexer": "ipython3",
   "version": "3.9.6"
  },
  "toc": {
   "base_numbering": 1,
   "nav_menu": {},
   "number_sections": true,
   "sideBar": true,
   "skip_h1_title": false,
   "title_cell": "Table of Contents",
   "title_sidebar": "Contents",
   "toc_cell": false,
   "toc_position": {},
   "toc_section_display": true,
   "toc_window_display": false
  },
  "varInspector": {
   "cols": {
    "lenName": 16,
    "lenType": 16,
    "lenVar": 40
   },
   "kernels_config": {
    "python": {
     "delete_cmd_postfix": "",
     "delete_cmd_prefix": "del ",
     "library": "var_list.py",
     "varRefreshCmd": "print(var_dic_list())"
    },
    "r": {
     "delete_cmd_postfix": ") ",
     "delete_cmd_prefix": "rm(",
     "library": "var_list.r",
     "varRefreshCmd": "cat(var_dic_list()) "
    }
   },
   "types_to_exclude": [
    "module",
    "function",
    "builtin_function_or_method",
    "instance",
    "_Feature"
   ],
   "window_display": false
  }
 },
 "nbformat": 4,
 "nbformat_minor": 5
}
